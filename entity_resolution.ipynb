{
 "cells": [
  {
   "cell_type": "code",
   "execution_count": 1,
   "metadata": {
    "collapsed": true
   },
   "outputs": [],
   "source": [
    "import pandas as pd\n",
    "import numpy as np\n",
    "import matplotlib.pyplot as plt\n",
    "%matplotlib inline\n",
    "np.set_printoptions(precision=3, suppress=True)\n",
    "plt.rcParams[\"figure.dpi\"] = 100"
   ]
  },
  {
   "cell_type": "code",
   "execution_count": 2,
   "metadata": {
    "collapsed": true
   },
   "outputs": [],
   "source": [
    "import dateparser\n",
    "import datetime"
   ]
  },
  {
   "cell_type": "code",
   "execution_count": 3,
   "metadata": {
    "collapsed": true
   },
   "outputs": [],
   "source": [
    "def clean_time(t):\n",
    "    if pd.isnull(t):\n",
    "        return t\n",
    "    else:\n",
    "        if dateparser.parse(t).time() != datetime.time(0):\n",
    "            delta = datetime.datetime.now() - dateparser.parse(t)\n",
    "            duration = np.ceil(delta.total_seconds()/60)\n",
    "            return duration\n",
    "        else:\n",
    "            return np.nan"
   ]
  },
  {
   "cell_type": "code",
   "execution_count": 4,
   "metadata": {
    "collapsed": false,
    "scrolled": true
   },
   "outputs": [],
   "source": [
    "df_amazon = pd.read_csv('amazon.csv', index_col='id')\n",
    "df_amazon.time = df_amazon.time.apply(clean_time)"
   ]
  },
  {
   "cell_type": "code",
   "execution_count": 5,
   "metadata": {
    "collapsed": false
   },
   "outputs": [],
   "source": [
    "df_rotten = pd.read_csv('rotten_tomatoes.csv', encoding='iso-8859-1', index_col='id')\n",
    "df_rotten.time = df_rotten.time.apply(clean_time)\n",
    "df_rotten['star'] = df_rotten[['star1', 'star2', 'star3', 'star4', 'star5', 'star6']].fillna('').apply(lambda x: ', '.join(x), axis=1)"
   ]
  },
  {
   "cell_type": "code",
   "execution_count": 6,
   "metadata": {
    "collapsed": false
   },
   "outputs": [],
   "source": [
    "df_amazon_clean = df_amazon[['time', 'director', 'star']]\n",
    "df_rotten_clean = df_rotten[['time', 'director', 'star']]"
   ]
  },
  {
   "cell_type": "code",
   "execution_count": 7,
   "metadata": {
    "collapsed": true
   },
   "outputs": [],
   "source": [
    "df_train = pd.read_csv('train.csv')\n",
    "df_train.columns = ['id1', 'id2', 'gold']"
   ]
  },
  {
   "cell_type": "code",
   "execution_count": 8,
   "metadata": {
    "collapsed": false
   },
   "outputs": [],
   "source": [
    "df_train = df_train.join(df_amazon_clean, on='id1')\n",
    "df_train = df_train.join(df_rotten_clean, on='id2', rsuffix='_rotten')"
   ]
  },
  {
   "cell_type": "code",
   "execution_count": 9,
   "metadata": {
    "collapsed": true
   },
   "outputs": [],
   "source": [
    "df_train['f1_time'] = df_train[['time', 'time_rotten']].apply(lambda x: abs(x[0] - x[1]), axis=1)"
   ]
  },
  {
   "cell_type": "code",
   "execution_count": 10,
   "metadata": {
    "collapsed": true
   },
   "outputs": [],
   "source": [
    "# df_train['f2_director'] = df_train[['director', 'director_rotten']].apply(lambda x: x[0] == x[1], axis=1)\n",
    "df_train['f2_director'] = df_train[['director', 'director_rotten']].apply(lambda x: 1 if x[0] == x[1] else 0, axis=1)"
   ]
  },
  {
   "cell_type": "code",
   "execution_count": 12,
   "metadata": {
    "collapsed": false
   },
   "outputs": [],
   "source": [
    "# df_train['f3_star'] = df_train[['star', 'star_rotten']].fillna('').apply(lambda x: set(x[0]) <= set(x[1]), axis=1)\n",
    "df_train['f3_star'] = df_train[['star', 'star_rotten']].fillna('').apply(lambda x: 1 if set(x[0]) <= set(x[1]) else 0, axis=1)"
   ]
  },
  {
   "cell_type": "code",
   "execution_count": 13,
   "metadata": {
    "collapsed": false
   },
   "outputs": [
    {
     "data": {
      "text/html": [
       "<div>\n",
       "<table border=\"1\" class=\"dataframe\">\n",
       "  <thead>\n",
       "    <tr style=\"text-align: right;\">\n",
       "      <th></th>\n",
       "      <th>id1</th>\n",
       "      <th>id2</th>\n",
       "      <th>gold</th>\n",
       "      <th>time</th>\n",
       "      <th>director</th>\n",
       "      <th>star</th>\n",
       "      <th>time_rotten</th>\n",
       "      <th>director_rotten</th>\n",
       "      <th>star_rotten</th>\n",
       "      <th>f1_time</th>\n",
       "      <th>f2_director</th>\n",
       "      <th>f3_star</th>\n",
       "    </tr>\n",
       "  </thead>\n",
       "  <tbody>\n",
       "    <tr>\n",
       "      <th>4</th>\n",
       "      <td>17</td>\n",
       "      <td>86</td>\n",
       "      <td>1</td>\n",
       "      <td>201.0</td>\n",
       "      <td>Peter Jackson</td>\n",
       "      <td>Noel Appleby, Ali Astin</td>\n",
       "      <td>201.0</td>\n",
       "      <td>Peter Jackson</td>\n",
       "      <td>Elijah Wood, Sean Astin, Ian McKellen, Andy Se...</td>\n",
       "      <td>0.0</td>\n",
       "      <td>1</td>\n",
       "      <td>0</td>\n",
       "    </tr>\n",
       "    <tr>\n",
       "      <th>7</th>\n",
       "      <td>25</td>\n",
       "      <td>4412</td>\n",
       "      <td>1</td>\n",
       "      <td>165.0</td>\n",
       "      <td>Christopher Nolan</td>\n",
       "      <td>Christian Bale</td>\n",
       "      <td>165.0</td>\n",
       "      <td>Christopher Nolan</td>\n",
       "      <td>Christian Bale, Anne Hathaway, Tom Hardy, Mari...</td>\n",
       "      <td>0.0</td>\n",
       "      <td>1</td>\n",
       "      <td>1</td>\n",
       "    </tr>\n",
       "    <tr>\n",
       "      <th>15</th>\n",
       "      <td>99</td>\n",
       "      <td>3215</td>\n",
       "      <td>1</td>\n",
       "      <td>142.0</td>\n",
       "      <td>Marc Webb</td>\n",
       "      <td>Andrew Garfield, Emma Stone</td>\n",
       "      <td>142.0</td>\n",
       "      <td>Marc Webb</td>\n",
       "      <td>Andrew Garfield, Emma Stone, Jamie Foxx, Dane ...</td>\n",
       "      <td>0.0</td>\n",
       "      <td>1</td>\n",
       "      <td>1</td>\n",
       "    </tr>\n",
       "    <tr>\n",
       "      <th>17</th>\n",
       "      <td>110</td>\n",
       "      <td>3549</td>\n",
       "      <td>1</td>\n",
       "      <td>115.0</td>\n",
       "      <td>Kenneth Branagh</td>\n",
       "      <td>Chris Hemsworth, Natalie Portman</td>\n",
       "      <td>115.0</td>\n",
       "      <td>Kenneth Branagh</td>\n",
       "      <td>Chris Hemsworth, Natalie Portman, Anthony Hopk...</td>\n",
       "      <td>0.0</td>\n",
       "      <td>1</td>\n",
       "      <td>1</td>\n",
       "    </tr>\n",
       "    <tr>\n",
       "      <th>22</th>\n",
       "      <td>166</td>\n",
       "      <td>3268</td>\n",
       "      <td>1</td>\n",
       "      <td>132.0</td>\n",
       "      <td>Bryan Singer</td>\n",
       "      <td>Hugh Jackman, James McAvoy</td>\n",
       "      <td>131.0</td>\n",
       "      <td>Bryan Singer</td>\n",
       "      <td>Hugh Jackman, James McAvoy, Michael Fassbender...</td>\n",
       "      <td>1.0</td>\n",
       "      <td>1</td>\n",
       "      <td>1</td>\n",
       "    </tr>\n",
       "    <tr>\n",
       "      <th>30</th>\n",
       "      <td>184</td>\n",
       "      <td>3085</td>\n",
       "      <td>1</td>\n",
       "      <td>113.0</td>\n",
       "      <td>Alan Taylor</td>\n",
       "      <td>Chris Hemsworth, Natalie Portman</td>\n",
       "      <td>112.0</td>\n",
       "      <td>Alan Taylor</td>\n",
       "      <td>Chris Hemsworth, Natalie Portman, Tom Hiddlest...</td>\n",
       "      <td>1.0</td>\n",
       "      <td>1</td>\n",
       "      <td>1</td>\n",
       "    </tr>\n",
       "    <tr>\n",
       "      <th>31</th>\n",
       "      <td>190</td>\n",
       "      <td>2569</td>\n",
       "      <td>1</td>\n",
       "      <td>133.0</td>\n",
       "      <td>Brad Bird</td>\n",
       "      <td>Tom Cruise, Paula Patton</td>\n",
       "      <td>132.0</td>\n",
       "      <td>Brad Bird</td>\n",
       "      <td>Tom Cruise, Jeremy Renner, Simon Pegg, Paula P...</td>\n",
       "      <td>1.0</td>\n",
       "      <td>1</td>\n",
       "      <td>1</td>\n",
       "    </tr>\n",
       "    <tr>\n",
       "      <th>36</th>\n",
       "      <td>199</td>\n",
       "      <td>6390</td>\n",
       "      <td>1</td>\n",
       "      <td>211.0</td>\n",
       "      <td>Chris Columbus</td>\n",
       "      <td>Lainie Kazan</td>\n",
       "      <td>106.0</td>\n",
       "      <td>Chris Columbus</td>\n",
       "      <td>Adam Sandler, Peter Dinklage, Kevin James, Mic...</td>\n",
       "      <td>105.0</td>\n",
       "      <td>1</td>\n",
       "      <td>0</td>\n",
       "    </tr>\n",
       "    <tr>\n",
       "      <th>38</th>\n",
       "      <td>228</td>\n",
       "      <td>3474</td>\n",
       "      <td>1</td>\n",
       "      <td>141.0</td>\n",
       "      <td>James Wan</td>\n",
       "      <td>Vin Diesel, Paul Walker</td>\n",
       "      <td>140.0</td>\n",
       "      <td>James Wan</td>\n",
       "      <td>Vin Diesel, Paul Walker, Jason Statham, Dwayne...</td>\n",
       "      <td>1.0</td>\n",
       "      <td>1</td>\n",
       "      <td>1</td>\n",
       "    </tr>\n",
       "    <tr>\n",
       "      <th>56</th>\n",
       "      <td>402</td>\n",
       "      <td>5683</td>\n",
       "      <td>1</td>\n",
       "      <td>141.0</td>\n",
       "      <td>Marc Webb</td>\n",
       "      <td>Andrew Garfield</td>\n",
       "      <td>142.0</td>\n",
       "      <td>Marc Webb</td>\n",
       "      <td>Andrew Garfield, Emma Stone, Jamie Foxx, Dane ...</td>\n",
       "      <td>1.0</td>\n",
       "      <td>1</td>\n",
       "      <td>1</td>\n",
       "    </tr>\n",
       "    <tr>\n",
       "      <th>60</th>\n",
       "      <td>457</td>\n",
       "      <td>5564</td>\n",
       "      <td>1</td>\n",
       "      <td>120.0</td>\n",
       "      <td>Wes Anderson</td>\n",
       "      <td>Ralph Fiennes</td>\n",
       "      <td>99.0</td>\n",
       "      <td>Wes Anderson</td>\n",
       "      <td>Ralph Fiennes, F Murray Abraham, Edward Norton...</td>\n",
       "      <td>21.0</td>\n",
       "      <td>1</td>\n",
       "      <td>1</td>\n",
       "    </tr>\n",
       "    <tr>\n",
       "      <th>65</th>\n",
       "      <td>487</td>\n",
       "      <td>3128</td>\n",
       "      <td>1</td>\n",
       "      <td>264.0</td>\n",
       "      <td>Peter Jackson</td>\n",
       "      <td>Ian McKellen, Martin Freeman</td>\n",
       "      <td>161.0</td>\n",
       "      <td>Peter Jackson</td>\n",
       "      <td>Ian McKellen, Bret McKenzie, Martin Freeman (I...</td>\n",
       "      <td>103.0</td>\n",
       "      <td>1</td>\n",
       "      <td>1</td>\n",
       "    </tr>\n",
       "    <tr>\n",
       "      <th>88</th>\n",
       "      <td>680</td>\n",
       "      <td>1763</td>\n",
       "      <td>1</td>\n",
       "      <td>163.0</td>\n",
       "      <td>Zack Snyder</td>\n",
       "      <td>Malin Akerman, Billy Crudup</td>\n",
       "      <td>124.0</td>\n",
       "      <td>Zack Snyder</td>\n",
       "      <td>Gerard Butler, Jared Harris, Salli Saffioti, S...</td>\n",
       "      <td>39.0</td>\n",
       "      <td>1</td>\n",
       "      <td>0</td>\n",
       "    </tr>\n",
       "    <tr>\n",
       "      <th>94</th>\n",
       "      <td>734</td>\n",
       "      <td>2255</td>\n",
       "      <td>1</td>\n",
       "      <td>93.0</td>\n",
       "      <td>Ronald Neame</td>\n",
       "      <td>Yul Brynner, Sal Mineo</td>\n",
       "      <td>93.0</td>\n",
       "      <td>Ronald Neame</td>\n",
       "      <td>Yul Brynner, Sal Mineo, Jack Warden, James Mas...</td>\n",
       "      <td>0.0</td>\n",
       "      <td>1</td>\n",
       "      <td>1</td>\n",
       "    </tr>\n",
       "    <tr>\n",
       "      <th>101</th>\n",
       "      <td>829</td>\n",
       "      <td>5168</td>\n",
       "      <td>1</td>\n",
       "      <td>153.0</td>\n",
       "      <td>Dennis Villeneuve</td>\n",
       "      <td>Hugh Jackman</td>\n",
       "      <td>153.0</td>\n",
       "      <td>Denis Villeneuve</td>\n",
       "      <td>Jake Gyllenhaal, Hugh Jackman, Viola Davis, Pa...</td>\n",
       "      <td>0.0</td>\n",
       "      <td>0</td>\n",
       "      <td>1</td>\n",
       "    </tr>\n",
       "    <tr>\n",
       "      <th>118</th>\n",
       "      <td>1004</td>\n",
       "      <td>493</td>\n",
       "      <td>1</td>\n",
       "      <td>113.0</td>\n",
       "      <td>David S. Goyer</td>\n",
       "      <td>Wesley Snipes, Kris Kristofferson</td>\n",
       "      <td>113.0</td>\n",
       "      <td>David S. Goyer</td>\n",
       "      <td>Wesley Snipes, Kris Kristofferson, Dominic Pur...</td>\n",
       "      <td>0.0</td>\n",
       "      <td>1</td>\n",
       "      <td>1</td>\n",
       "    </tr>\n",
       "    <tr>\n",
       "      <th>122</th>\n",
       "      <td>2954</td>\n",
       "      <td>2831</td>\n",
       "      <td>1</td>\n",
       "      <td>170.0</td>\n",
       "      <td>Peter Jackson</td>\n",
       "      <td>Ian McKellen, Martin Freeman</td>\n",
       "      <td>170.0</td>\n",
       "      <td>Peter Jackson</td>\n",
       "      <td>Ian McKellen, Martin Freeman (II), Richard Arm...</td>\n",
       "      <td>0.0</td>\n",
       "      <td>1</td>\n",
       "      <td>1</td>\n",
       "    </tr>\n",
       "    <tr>\n",
       "      <th>123</th>\n",
       "      <td>1103</td>\n",
       "      <td>4262</td>\n",
       "      <td>1</td>\n",
       "      <td>128.0</td>\n",
       "      <td>Rupert Sanders</td>\n",
       "      <td>Kristen Stewart, Chris Hemsworth</td>\n",
       "      <td>128.0</td>\n",
       "      <td>Rupert Sanders</td>\n",
       "      <td>Kristen Stewart, Chris Hemsworth, Charlize The...</td>\n",
       "      <td>0.0</td>\n",
       "      <td>1</td>\n",
       "      <td>1</td>\n",
       "    </tr>\n",
       "    <tr>\n",
       "      <th>137</th>\n",
       "      <td>1256</td>\n",
       "      <td>701</td>\n",
       "      <td>1</td>\n",
       "      <td>107.0</td>\n",
       "      <td>Catherine Hardwicke</td>\n",
       "      <td>John Robinson, Emile Hirsch</td>\n",
       "      <td>107.0</td>\n",
       "      <td>Catherine Hardwicke</td>\n",
       "      <td>John Robinson (IX), Emile Hirsch, Rebecca De M...</td>\n",
       "      <td>0.0</td>\n",
       "      <td>1</td>\n",
       "      <td>1</td>\n",
       "    </tr>\n",
       "    <tr>\n",
       "      <th>140</th>\n",
       "      <td>1342</td>\n",
       "      <td>2253</td>\n",
       "      <td>1</td>\n",
       "      <td>118.0</td>\n",
       "      <td>James Mangold</td>\n",
       "      <td>Tom Cruise, Cameron Diaz</td>\n",
       "      <td>109.0</td>\n",
       "      <td>James Mangold</td>\n",
       "      <td>Tom Cruise, Cameron Diaz, Peter Sarsgaard, Vio...</td>\n",
       "      <td>9.0</td>\n",
       "      <td>1</td>\n",
       "      <td>1</td>\n",
       "    </tr>\n",
       "    <tr>\n",
       "      <th>154</th>\n",
       "      <td>1600</td>\n",
       "      <td>2204</td>\n",
       "      <td>1</td>\n",
       "      <td>141.0</td>\n",
       "      <td>Ridley Scott</td>\n",
       "      <td>Russell Crowe, Cate Blanchett</td>\n",
       "      <td>148.0</td>\n",
       "      <td>Ridley Scott</td>\n",
       "      <td>Russell Crowe, Cate Blanchett, Max von Sydow, ...</td>\n",
       "      <td>7.0</td>\n",
       "      <td>1</td>\n",
       "      <td>1</td>\n",
       "    </tr>\n",
       "    <tr>\n",
       "      <th>161</th>\n",
       "      <td>1651</td>\n",
       "      <td>3460</td>\n",
       "      <td>1</td>\n",
       "      <td>91.0</td>\n",
       "      <td>Jen Soska</td>\n",
       "      <td>Dean Cain, Paul Wight</td>\n",
       "      <td>90.0</td>\n",
       "      <td>Jen Soska</td>\n",
       "      <td>Dean Cain, Paul Wight, Kyra Zagorsky, Michael ...</td>\n",
       "      <td>1.0</td>\n",
       "      <td>1</td>\n",
       "      <td>1</td>\n",
       "    </tr>\n",
       "    <tr>\n",
       "      <th>180</th>\n",
       "      <td>1996</td>\n",
       "      <td>1559</td>\n",
       "      <td>1</td>\n",
       "      <td>113.0</td>\n",
       "      <td>Neil Marshall</td>\n",
       "      <td>Rhona Mitra</td>\n",
       "      <td>109.0</td>\n",
       "      <td>Neil Marshall</td>\n",
       "      <td>Rhona Mitra, Bob Hoskins, Adrian Lester, Alexa...</td>\n",
       "      <td>4.0</td>\n",
       "      <td>1</td>\n",
       "      <td>1</td>\n",
       "    </tr>\n",
       "    <tr>\n",
       "      <th>184</th>\n",
       "      <td>2041</td>\n",
       "      <td>3451</td>\n",
       "      <td>1</td>\n",
       "      <td>107.0</td>\n",
       "      <td>Toa Fraser</td>\n",
       "      <td>James Rolleston, Lawrence Makoare</td>\n",
       "      <td>104.0</td>\n",
       "      <td>Toa Fraser</td>\n",
       "      <td>George Henare, James Rolleston, Lawrence Makoa...</td>\n",
       "      <td>3.0</td>\n",
       "      <td>1</td>\n",
       "      <td>1</td>\n",
       "    </tr>\n",
       "    <tr>\n",
       "      <th>206</th>\n",
       "      <td>2305</td>\n",
       "      <td>1808</td>\n",
       "      <td>1</td>\n",
       "      <td>92.0</td>\n",
       "      <td>Patrick Tatopoulos</td>\n",
       "      <td>Rhona Mitra</td>\n",
       "      <td>93.0</td>\n",
       "      <td>Patrick Tatopoulos</td>\n",
       "      <td>Bill Nighy, Michael Sheen, Rhona Mitra, Steven...</td>\n",
       "      <td>1.0</td>\n",
       "      <td>1</td>\n",
       "      <td>1</td>\n",
       "    </tr>\n",
       "    <tr>\n",
       "      <th>226</th>\n",
       "      <td>2467</td>\n",
       "      <td>2613</td>\n",
       "      <td>1</td>\n",
       "      <td>93.0</td>\n",
       "      <td>Damon Russell</td>\n",
       "      <td>Curtis Snow</td>\n",
       "      <td>79.0</td>\n",
       "      <td>Damon Russell</td>\n",
       "      <td>Curtis Snow, Frank Ringer, Curtis Lockett, Tam...</td>\n",
       "      <td>14.0</td>\n",
       "      <td>1</td>\n",
       "      <td>1</td>\n",
       "    </tr>\n",
       "    <tr>\n",
       "      <th>241</th>\n",
       "      <td>2714</td>\n",
       "      <td>4980</td>\n",
       "      <td>1</td>\n",
       "      <td>91.0</td>\n",
       "      <td>Sofia Coppola</td>\n",
       "      <td>Katie Chang, Israel Broussard</td>\n",
       "      <td>90.0</td>\n",
       "      <td>Sofia Coppola</td>\n",
       "      <td>Emma Watson, Israel Broussard, Taissa Farmiga,...</td>\n",
       "      <td>1.0</td>\n",
       "      <td>1</td>\n",
       "      <td>1</td>\n",
       "    </tr>\n",
       "    <tr>\n",
       "      <th>242</th>\n",
       "      <td>2722</td>\n",
       "      <td>3822</td>\n",
       "      <td>1</td>\n",
       "      <td>91.0</td>\n",
       "      <td>Tommy Lee Jones</td>\n",
       "      <td>Samuel L. Jackson, Tommy Lee Jones</td>\n",
       "      <td>90.0</td>\n",
       "      <td>Tommy Lee Jones</td>\n",
       "      <td>Samuel L. Jackson, Tommy Lee Jones, , , ,</td>\n",
       "      <td>1.0</td>\n",
       "      <td>1</td>\n",
       "      <td>1</td>\n",
       "    </tr>\n",
       "  </tbody>\n",
       "</table>\n",
       "</div>"
      ],
      "text/plain": [
       "      id1   id2  gold   time             director  \\\n",
       "4      17    86     1  201.0        Peter Jackson   \n",
       "7      25  4412     1  165.0    Christopher Nolan   \n",
       "15     99  3215     1  142.0            Marc Webb   \n",
       "17    110  3549     1  115.0      Kenneth Branagh   \n",
       "22    166  3268     1  132.0         Bryan Singer   \n",
       "30    184  3085     1  113.0          Alan Taylor   \n",
       "31    190  2569     1  133.0            Brad Bird   \n",
       "36    199  6390     1  211.0       Chris Columbus   \n",
       "38    228  3474     1  141.0            James Wan   \n",
       "56    402  5683     1  141.0            Marc Webb   \n",
       "60    457  5564     1  120.0         Wes Anderson   \n",
       "65    487  3128     1  264.0        Peter Jackson   \n",
       "88    680  1763     1  163.0          Zack Snyder   \n",
       "94    734  2255     1   93.0         Ronald Neame   \n",
       "101   829  5168     1  153.0    Dennis Villeneuve   \n",
       "118  1004   493     1  113.0       David S. Goyer   \n",
       "122  2954  2831     1  170.0        Peter Jackson   \n",
       "123  1103  4262     1  128.0       Rupert Sanders   \n",
       "137  1256   701     1  107.0  Catherine Hardwicke   \n",
       "140  1342  2253     1  118.0        James Mangold   \n",
       "154  1600  2204     1  141.0         Ridley Scott   \n",
       "161  1651  3460     1   91.0            Jen Soska   \n",
       "180  1996  1559     1  113.0        Neil Marshall   \n",
       "184  2041  3451     1  107.0           Toa Fraser   \n",
       "206  2305  1808     1   92.0   Patrick Tatopoulos   \n",
       "226  2467  2613     1   93.0        Damon Russell   \n",
       "241  2714  4980     1   91.0        Sofia Coppola   \n",
       "242  2722  3822     1   91.0      Tommy Lee Jones   \n",
       "\n",
       "                                   star  time_rotten      director_rotten  \\\n",
       "4               Noel Appleby, Ali Astin        201.0        Peter Jackson   \n",
       "7                        Christian Bale        165.0    Christopher Nolan   \n",
       "15          Andrew Garfield, Emma Stone        142.0            Marc Webb   \n",
       "17     Chris Hemsworth, Natalie Portman        115.0      Kenneth Branagh   \n",
       "22           Hugh Jackman, James McAvoy        131.0         Bryan Singer   \n",
       "30     Chris Hemsworth, Natalie Portman        112.0          Alan Taylor   \n",
       "31             Tom Cruise, Paula Patton        132.0            Brad Bird   \n",
       "36                         Lainie Kazan        106.0       Chris Columbus   \n",
       "38              Vin Diesel, Paul Walker        140.0            James Wan   \n",
       "56                      Andrew Garfield        142.0            Marc Webb   \n",
       "60                        Ralph Fiennes         99.0         Wes Anderson   \n",
       "65         Ian McKellen, Martin Freeman        161.0        Peter Jackson   \n",
       "88          Malin Akerman, Billy Crudup        124.0          Zack Snyder   \n",
       "94               Yul Brynner, Sal Mineo         93.0         Ronald Neame   \n",
       "101                        Hugh Jackman        153.0     Denis Villeneuve   \n",
       "118   Wesley Snipes, Kris Kristofferson        113.0       David S. Goyer   \n",
       "122        Ian McKellen, Martin Freeman        170.0        Peter Jackson   \n",
       "123    Kristen Stewart, Chris Hemsworth        128.0       Rupert Sanders   \n",
       "137         John Robinson, Emile Hirsch        107.0  Catherine Hardwicke   \n",
       "140            Tom Cruise, Cameron Diaz        109.0        James Mangold   \n",
       "154       Russell Crowe, Cate Blanchett        148.0         Ridley Scott   \n",
       "161               Dean Cain, Paul Wight         90.0            Jen Soska   \n",
       "180                         Rhona Mitra        109.0        Neil Marshall   \n",
       "184   James Rolleston, Lawrence Makoare        104.0           Toa Fraser   \n",
       "206                         Rhona Mitra         93.0   Patrick Tatopoulos   \n",
       "226                         Curtis Snow         79.0        Damon Russell   \n",
       "241       Katie Chang, Israel Broussard         90.0        Sofia Coppola   \n",
       "242  Samuel L. Jackson, Tommy Lee Jones         90.0      Tommy Lee Jones   \n",
       "\n",
       "                                           star_rotten  f1_time  f2_director  \\\n",
       "4    Elijah Wood, Sean Astin, Ian McKellen, Andy Se...      0.0            1   \n",
       "7    Christian Bale, Anne Hathaway, Tom Hardy, Mari...      0.0            1   \n",
       "15   Andrew Garfield, Emma Stone, Jamie Foxx, Dane ...      0.0            1   \n",
       "17   Chris Hemsworth, Natalie Portman, Anthony Hopk...      0.0            1   \n",
       "22   Hugh Jackman, James McAvoy, Michael Fassbender...      1.0            1   \n",
       "30   Chris Hemsworth, Natalie Portman, Tom Hiddlest...      1.0            1   \n",
       "31   Tom Cruise, Jeremy Renner, Simon Pegg, Paula P...      1.0            1   \n",
       "36   Adam Sandler, Peter Dinklage, Kevin James, Mic...    105.0            1   \n",
       "38   Vin Diesel, Paul Walker, Jason Statham, Dwayne...      1.0            1   \n",
       "56   Andrew Garfield, Emma Stone, Jamie Foxx, Dane ...      1.0            1   \n",
       "60   Ralph Fiennes, F Murray Abraham, Edward Norton...     21.0            1   \n",
       "65   Ian McKellen, Bret McKenzie, Martin Freeman (I...    103.0            1   \n",
       "88   Gerard Butler, Jared Harris, Salli Saffioti, S...     39.0            1   \n",
       "94   Yul Brynner, Sal Mineo, Jack Warden, James Mas...      0.0            1   \n",
       "101  Jake Gyllenhaal, Hugh Jackman, Viola Davis, Pa...      0.0            0   \n",
       "118  Wesley Snipes, Kris Kristofferson, Dominic Pur...      0.0            1   \n",
       "122  Ian McKellen, Martin Freeman (II), Richard Arm...      0.0            1   \n",
       "123  Kristen Stewart, Chris Hemsworth, Charlize The...      0.0            1   \n",
       "137  John Robinson (IX), Emile Hirsch, Rebecca De M...      0.0            1   \n",
       "140  Tom Cruise, Cameron Diaz, Peter Sarsgaard, Vio...      9.0            1   \n",
       "154  Russell Crowe, Cate Blanchett, Max von Sydow, ...      7.0            1   \n",
       "161  Dean Cain, Paul Wight, Kyra Zagorsky, Michael ...      1.0            1   \n",
       "180  Rhona Mitra, Bob Hoskins, Adrian Lester, Alexa...      4.0            1   \n",
       "184  George Henare, James Rolleston, Lawrence Makoa...      3.0            1   \n",
       "206  Bill Nighy, Michael Sheen, Rhona Mitra, Steven...      1.0            1   \n",
       "226  Curtis Snow, Frank Ringer, Curtis Lockett, Tam...     14.0            1   \n",
       "241  Emma Watson, Israel Broussard, Taissa Farmiga,...      1.0            1   \n",
       "242         Samuel L. Jackson, Tommy Lee Jones, , , ,       1.0            1   \n",
       "\n",
       "     f3_star  \n",
       "4          0  \n",
       "7          1  \n",
       "15         1  \n",
       "17         1  \n",
       "22         1  \n",
       "30         1  \n",
       "31         1  \n",
       "36         0  \n",
       "38         1  \n",
       "56         1  \n",
       "60         1  \n",
       "65         1  \n",
       "88         0  \n",
       "94         1  \n",
       "101        1  \n",
       "118        1  \n",
       "122        1  \n",
       "123        1  \n",
       "137        1  \n",
       "140        1  \n",
       "154        1  \n",
       "161        1  \n",
       "180        1  \n",
       "184        1  \n",
       "206        1  \n",
       "226        1  \n",
       "241        1  \n",
       "242        1  "
      ]
     },
     "execution_count": 13,
     "metadata": {},
     "output_type": "execute_result"
    }
   ],
   "source": [
    "df_train[df_train.gold==1]"
   ]
  },
  {
   "cell_type": "code",
   "execution_count": 14,
   "metadata": {
    "collapsed": false
   },
   "outputs": [],
   "source": [
    "from sklearn.preprocessing import Imputer\n",
    "from sklearn.model_selection import train_test_split, GridSearchCV\n",
    "from sklearn.pipeline import make_pipeline"
   ]
  },
  {
   "cell_type": "code",
   "execution_count": 35,
   "metadata": {
    "collapsed": false
   },
   "outputs": [],
   "source": [
    "X = df_train[['f1_time', 'f2_director', 'f3_star']].as_matrix()\n",
    "y = df_train['gold'].values"
   ]
  },
  {
   "cell_type": "code",
   "execution_count": 36,
   "metadata": {
    "collapsed": false
   },
   "outputs": [
    {
     "name": "stdout",
     "output_type": "stream",
     "text": [
      "(186, 3) (63, 3) (186,) (63,)\n"
     ]
    }
   ],
   "source": [
    "X_train, X_test, y_train, y_test = train_test_split(X, y, stratify=y)\n",
    "print(X_train.shape, X_test.shape, y_train.shape, y_test.shape)"
   ]
  },
  {
   "cell_type": "code",
   "execution_count": 37,
   "metadata": {
    "collapsed": false
   },
   "outputs": [
    {
     "data": {
      "image/svg+xml": [
       "<?xml version=\"1.0\" encoding=\"UTF-8\" standalone=\"no\"?>\n",
       "<!DOCTYPE svg PUBLIC \"-//W3C//DTD SVG 1.1//EN\"\n",
       " \"http://www.w3.org/Graphics/SVG/1.1/DTD/svg11.dtd\">\n",
       "<!-- Generated by graphviz version 2.38.0 (20140413.2041)\n",
       " -->\n",
       "<!-- Title: Tree Pages: 1 -->\n",
       "<svg width=\"678pt\" height=\"358pt\"\n",
       " viewBox=\"0.00 0.00 677.54 358.00\" xmlns=\"http://www.w3.org/2000/svg\" xmlns:xlink=\"http://www.w3.org/1999/xlink\">\n",
       "<g id=\"graph0\" class=\"graph\" transform=\"scale(1 1) rotate(0) translate(4 354)\">\n",
       "<title>Tree</title>\n",
       "<polygon fill=\"white\" stroke=\"none\" points=\"-4,4 -4,-354 673.537,-354 673.537,4 -4,4\"/>\n",
       "<!-- 0 -->\n",
       "<g id=\"node1\" class=\"node\"><title>0</title>\n",
       "<polygon fill=\"none\" stroke=\"black\" points=\"391.807,-350 279.73,-350 279.73,-286 391.807,-286 391.807,-350\"/>\n",
       "<text text-anchor=\"middle\" x=\"335.769\" y=\"-334.8\" font-family=\"Times,serif\" font-size=\"14.00\">f1_time &lt;= 1.5</text>\n",
       "<text text-anchor=\"middle\" x=\"335.769\" y=\"-320.8\" font-family=\"Times,serif\" font-size=\"14.00\">gini = 0.2003</text>\n",
       "<text text-anchor=\"middle\" x=\"335.769\" y=\"-306.8\" font-family=\"Times,serif\" font-size=\"14.00\">samples = 186</text>\n",
       "<text text-anchor=\"middle\" x=\"335.769\" y=\"-292.8\" font-family=\"Times,serif\" font-size=\"14.00\">value = [165, 21]</text>\n",
       "</g>\n",
       "<!-- 1 -->\n",
       "<g id=\"node2\" class=\"node\"><title>1</title>\n",
       "<polygon fill=\"none\" stroke=\"black\" points=\"327.254,-250 208.283,-250 208.283,-186 327.254,-186 327.254,-250\"/>\n",
       "<text text-anchor=\"middle\" x=\"267.769\" y=\"-234.8\" font-family=\"Times,serif\" font-size=\"14.00\">f2_director &lt;= 0.5</text>\n",
       "<text text-anchor=\"middle\" x=\"267.769\" y=\"-220.8\" font-family=\"Times,serif\" font-size=\"14.00\">gini = 0.4444</text>\n",
       "<text text-anchor=\"middle\" x=\"267.769\" y=\"-206.8\" font-family=\"Times,serif\" font-size=\"14.00\">samples = 21</text>\n",
       "<text text-anchor=\"middle\" x=\"267.769\" y=\"-192.8\" font-family=\"Times,serif\" font-size=\"14.00\">value = [7, 14]</text>\n",
       "</g>\n",
       "<!-- 0&#45;&gt;1 -->\n",
       "<g id=\"edge1\" class=\"edge\"><title>0&#45;&gt;1</title>\n",
       "<path fill=\"none\" stroke=\"black\" d=\"M314.253,-285.992C308.176,-277.234 301.48,-267.585 295.11,-258.404\"/>\n",
       "<polygon fill=\"black\" stroke=\"black\" points=\"297.954,-256.363 289.378,-250.142 292.203,-260.354 297.954,-256.363\"/>\n",
       "<text text-anchor=\"middle\" x=\"284.932\" y=\"-270.544\" font-family=\"Times,serif\" font-size=\"14.00\">True</text>\n",
       "</g>\n",
       "<!-- 8 -->\n",
       "<g id=\"node9\" class=\"node\"><title>8</title>\n",
       "<polygon fill=\"none\" stroke=\"black\" points=\"463.254,-250 344.283,-250 344.283,-186 463.254,-186 463.254,-250\"/>\n",
       "<text text-anchor=\"middle\" x=\"403.769\" y=\"-234.8\" font-family=\"Times,serif\" font-size=\"14.00\">f2_director &lt;= 0.5</text>\n",
       "<text text-anchor=\"middle\" x=\"403.769\" y=\"-220.8\" font-family=\"Times,serif\" font-size=\"14.00\">gini = 0.0812</text>\n",
       "<text text-anchor=\"middle\" x=\"403.769\" y=\"-206.8\" font-family=\"Times,serif\" font-size=\"14.00\">samples = 165</text>\n",
       "<text text-anchor=\"middle\" x=\"403.769\" y=\"-192.8\" font-family=\"Times,serif\" font-size=\"14.00\">value = [158, 7]</text>\n",
       "</g>\n",
       "<!-- 0&#45;&gt;8 -->\n",
       "<g id=\"edge8\" class=\"edge\"><title>0&#45;&gt;8</title>\n",
       "<path fill=\"none\" stroke=\"black\" d=\"M357.284,-285.992C363.361,-277.234 370.057,-267.585 376.427,-258.404\"/>\n",
       "<polygon fill=\"black\" stroke=\"black\" points=\"379.334,-260.354 382.159,-250.142 373.583,-256.363 379.334,-260.354\"/>\n",
       "<text text-anchor=\"middle\" x=\"386.606\" y=\"-270.544\" font-family=\"Times,serif\" font-size=\"14.00\">False</text>\n",
       "</g>\n",
       "<!-- 2 -->\n",
       "<g id=\"node3\" class=\"node\"><title>2</title>\n",
       "<polygon fill=\"none\" stroke=\"black\" points=\"203.605,-150 103.932,-150 103.932,-86 203.605,-86 203.605,-150\"/>\n",
       "<text text-anchor=\"middle\" x=\"153.769\" y=\"-134.8\" font-family=\"Times,serif\" font-size=\"14.00\">f1_time &lt;= 0.5</text>\n",
       "<text text-anchor=\"middle\" x=\"153.769\" y=\"-120.8\" font-family=\"Times,serif\" font-size=\"14.00\">gini = 0.4444</text>\n",
       "<text text-anchor=\"middle\" x=\"153.769\" y=\"-106.8\" font-family=\"Times,serif\" font-size=\"14.00\">samples = 3</text>\n",
       "<text text-anchor=\"middle\" x=\"153.769\" y=\"-92.8\" font-family=\"Times,serif\" font-size=\"14.00\">value = [2, 1]</text>\n",
       "</g>\n",
       "<!-- 1&#45;&gt;2 -->\n",
       "<g id=\"edge2\" class=\"edge\"><title>1&#45;&gt;2</title>\n",
       "<path fill=\"none\" stroke=\"black\" d=\"M231.698,-185.992C220.886,-176.698 208.907,-166.4 197.65,-156.723\"/>\n",
       "<polygon fill=\"black\" stroke=\"black\" points=\"199.86,-154.007 189.996,-150.142 195.297,-159.315 199.86,-154.007\"/>\n",
       "</g>\n",
       "<!-- 5 -->\n",
       "<g id=\"node6\" class=\"node\"><title>5</title>\n",
       "<polygon fill=\"none\" stroke=\"black\" points=\"321.605,-150 221.932,-150 221.932,-86 321.605,-86 321.605,-150\"/>\n",
       "<text text-anchor=\"middle\" x=\"271.769\" y=\"-134.8\" font-family=\"Times,serif\" font-size=\"14.00\">f1_time &lt;= 0.5</text>\n",
       "<text text-anchor=\"middle\" x=\"271.769\" y=\"-120.8\" font-family=\"Times,serif\" font-size=\"14.00\">gini = 0.4012</text>\n",
       "<text text-anchor=\"middle\" x=\"271.769\" y=\"-106.8\" font-family=\"Times,serif\" font-size=\"14.00\">samples = 18</text>\n",
       "<text text-anchor=\"middle\" x=\"271.769\" y=\"-92.8\" font-family=\"Times,serif\" font-size=\"14.00\">value = [5, 13]</text>\n",
       "</g>\n",
       "<!-- 1&#45;&gt;5 -->\n",
       "<g id=\"edge5\" class=\"edge\"><title>1&#45;&gt;5</title>\n",
       "<path fill=\"none\" stroke=\"black\" d=\"M269.034,-185.992C269.366,-177.859 269.729,-168.959 270.08,-160.378\"/>\n",
       "<polygon fill=\"black\" stroke=\"black\" points=\"273.587,-160.277 270.497,-150.142 266.592,-159.991 273.587,-160.277\"/>\n",
       "</g>\n",
       "<!-- 3 -->\n",
       "<g id=\"node4\" class=\"node\"><title>3</title>\n",
       "<polygon fill=\"none\" stroke=\"black\" points=\"91.3068,-50 0.230281,-50 0.230281,-0 91.3068,-0 91.3068,-50\"/>\n",
       "<text text-anchor=\"middle\" x=\"45.7686\" y=\"-34.8\" font-family=\"Times,serif\" font-size=\"14.00\">gini = 0.0</text>\n",
       "<text text-anchor=\"middle\" x=\"45.7686\" y=\"-20.8\" font-family=\"Times,serif\" font-size=\"14.00\">samples = 1</text>\n",
       "<text text-anchor=\"middle\" x=\"45.7686\" y=\"-6.8\" font-family=\"Times,serif\" font-size=\"14.00\">value = [0, 1]</text>\n",
       "</g>\n",
       "<!-- 2&#45;&gt;3 -->\n",
       "<g id=\"edge3\" class=\"edge\"><title>2&#45;&gt;3</title>\n",
       "<path fill=\"none\" stroke=\"black\" d=\"M116.903,-85.9375C105.692,-76.491 93.3814,-66.1182 82.199,-56.6961\"/>\n",
       "<polygon fill=\"black\" stroke=\"black\" points=\"84.1903,-53.7971 74.2878,-50.0301 79.6798,-59.1502 84.1903,-53.7971\"/>\n",
       "</g>\n",
       "<!-- 4 -->\n",
       "<g id=\"node5\" class=\"node\"><title>4</title>\n",
       "<polygon fill=\"none\" stroke=\"black\" points=\"201.307,-50 110.23,-50 110.23,-0 201.307,-0 201.307,-50\"/>\n",
       "<text text-anchor=\"middle\" x=\"155.769\" y=\"-34.8\" font-family=\"Times,serif\" font-size=\"14.00\">gini = 0.0</text>\n",
       "<text text-anchor=\"middle\" x=\"155.769\" y=\"-20.8\" font-family=\"Times,serif\" font-size=\"14.00\">samples = 2</text>\n",
       "<text text-anchor=\"middle\" x=\"155.769\" y=\"-6.8\" font-family=\"Times,serif\" font-size=\"14.00\">value = [2, 0]</text>\n",
       "</g>\n",
       "<!-- 2&#45;&gt;4 -->\n",
       "<g id=\"edge4\" class=\"edge\"><title>2&#45;&gt;4</title>\n",
       "<path fill=\"none\" stroke=\"black\" d=\"M154.451,-85.9375C154.633,-77.6833 154.83,-68.7219 155.015,-60.3053\"/>\n",
       "<polygon fill=\"black\" stroke=\"black\" points=\"158.52,-60.1046 155.24,-50.0301 151.521,-59.9507 158.52,-60.1046\"/>\n",
       "</g>\n",
       "<!-- 6 -->\n",
       "<g id=\"node7\" class=\"node\"><title>6</title>\n",
       "<polygon fill=\"none\" stroke=\"black\" points=\"315.307,-50 224.23,-50 224.23,-0 315.307,-0 315.307,-50\"/>\n",
       "<text text-anchor=\"middle\" x=\"269.769\" y=\"-34.8\" font-family=\"Times,serif\" font-size=\"14.00\">gini = 0.4628</text>\n",
       "<text text-anchor=\"middle\" x=\"269.769\" y=\"-20.8\" font-family=\"Times,serif\" font-size=\"14.00\">samples = 11</text>\n",
       "<text text-anchor=\"middle\" x=\"269.769\" y=\"-6.8\" font-family=\"Times,serif\" font-size=\"14.00\">value = [4, 7]</text>\n",
       "</g>\n",
       "<!-- 5&#45;&gt;6 -->\n",
       "<g id=\"edge6\" class=\"edge\"><title>5&#45;&gt;6</title>\n",
       "<path fill=\"none\" stroke=\"black\" d=\"M271.086,-85.9375C270.904,-77.6833 270.707,-68.7219 270.523,-60.3053\"/>\n",
       "<polygon fill=\"black\" stroke=\"black\" points=\"274.016,-59.9507 270.297,-50.0301 267.017,-60.1046 274.016,-59.9507\"/>\n",
       "</g>\n",
       "<!-- 7 -->\n",
       "<g id=\"node8\" class=\"node\"><title>7</title>\n",
       "<polygon fill=\"none\" stroke=\"black\" points=\"425.307,-50 334.23,-50 334.23,-0 425.307,-0 425.307,-50\"/>\n",
       "<text text-anchor=\"middle\" x=\"379.769\" y=\"-34.8\" font-family=\"Times,serif\" font-size=\"14.00\">gini = 0.2449</text>\n",
       "<text text-anchor=\"middle\" x=\"379.769\" y=\"-20.8\" font-family=\"Times,serif\" font-size=\"14.00\">samples = 7</text>\n",
       "<text text-anchor=\"middle\" x=\"379.769\" y=\"-6.8\" font-family=\"Times,serif\" font-size=\"14.00\">value = [1, 6]</text>\n",
       "</g>\n",
       "<!-- 5&#45;&gt;7 -->\n",
       "<g id=\"edge7\" class=\"edge\"><title>5&#45;&gt;7</title>\n",
       "<path fill=\"none\" stroke=\"black\" d=\"M308.634,-85.9375C319.845,-76.491 332.156,-66.1182 343.338,-56.6961\"/>\n",
       "<polygon fill=\"black\" stroke=\"black\" points=\"345.857,-59.1502 351.249,-50.0301 341.347,-53.7971 345.857,-59.1502\"/>\n",
       "</g>\n",
       "<!-- 9 -->\n",
       "<g id=\"node10\" class=\"node\"><title>9</title>\n",
       "<polygon fill=\"none\" stroke=\"black\" points=\"452.307,-143 347.23,-143 347.23,-93 452.307,-93 452.307,-143\"/>\n",
       "<text text-anchor=\"middle\" x=\"399.769\" y=\"-127.8\" font-family=\"Times,serif\" font-size=\"14.00\">gini = 0.0</text>\n",
       "<text text-anchor=\"middle\" x=\"399.769\" y=\"-113.8\" font-family=\"Times,serif\" font-size=\"14.00\">samples = 137</text>\n",
       "<text text-anchor=\"middle\" x=\"399.769\" y=\"-99.8\" font-family=\"Times,serif\" font-size=\"14.00\">value = [137, 0]</text>\n",
       "</g>\n",
       "<!-- 8&#45;&gt;9 -->\n",
       "<g id=\"edge9\" class=\"edge\"><title>8&#45;&gt;9</title>\n",
       "<path fill=\"none\" stroke=\"black\" d=\"M402.503,-185.992C402.081,-175.646 401.608,-164.057 401.175,-153.465\"/>\n",
       "<polygon fill=\"black\" stroke=\"black\" points=\"404.665,-153.137 400.76,-143.288 397.671,-153.422 404.665,-153.137\"/>\n",
       "</g>\n",
       "<!-- 10 -->\n",
       "<g id=\"node11\" class=\"node\"><title>10</title>\n",
       "<polygon fill=\"none\" stroke=\"black\" points=\"584.605,-150 470.932,-150 470.932,-86 584.605,-86 584.605,-150\"/>\n",
       "<text text-anchor=\"middle\" x=\"527.769\" y=\"-134.8\" font-family=\"Times,serif\" font-size=\"14.00\">f1_time &lt;= 133.0</text>\n",
       "<text text-anchor=\"middle\" x=\"527.769\" y=\"-120.8\" font-family=\"Times,serif\" font-size=\"14.00\">gini = 0.375</text>\n",
       "<text text-anchor=\"middle\" x=\"527.769\" y=\"-106.8\" font-family=\"Times,serif\" font-size=\"14.00\">samples = 28</text>\n",
       "<text text-anchor=\"middle\" x=\"527.769\" y=\"-92.8\" font-family=\"Times,serif\" font-size=\"14.00\">value = [21, 7]</text>\n",
       "</g>\n",
       "<!-- 8&#45;&gt;10 -->\n",
       "<g id=\"edge10\" class=\"edge\"><title>8&#45;&gt;10</title>\n",
       "<path fill=\"none\" stroke=\"black\" d=\"M443.003,-185.992C454.877,-176.608 468.044,-166.202 480.391,-156.444\"/>\n",
       "<polygon fill=\"black\" stroke=\"black\" points=\"482.688,-159.089 488.364,-150.142 478.348,-153.597 482.688,-159.089\"/>\n",
       "</g>\n",
       "<!-- 11 -->\n",
       "<g id=\"node12\" class=\"node\"><title>11</title>\n",
       "<polygon fill=\"none\" stroke=\"black\" points=\"559.807,-50 461.73,-50 461.73,-0 559.807,-0 559.807,-50\"/>\n",
       "<text text-anchor=\"middle\" x=\"510.769\" y=\"-34.8\" font-family=\"Times,serif\" font-size=\"14.00\">gini = 0.4339</text>\n",
       "<text text-anchor=\"middle\" x=\"510.769\" y=\"-20.8\" font-family=\"Times,serif\" font-size=\"14.00\">samples = 22</text>\n",
       "<text text-anchor=\"middle\" x=\"510.769\" y=\"-6.8\" font-family=\"Times,serif\" font-size=\"14.00\">value = [15, 7]</text>\n",
       "</g>\n",
       "<!-- 10&#45;&gt;11 -->\n",
       "<g id=\"edge11\" class=\"edge\"><title>10&#45;&gt;11</title>\n",
       "<path fill=\"none\" stroke=\"black\" d=\"M521.966,-85.9375C520.407,-77.5916 518.712,-68.5226 517.125,-60.025\"/>\n",
       "<polygon fill=\"black\" stroke=\"black\" points=\"520.535,-59.2173 515.258,-50.0301 513.654,-60.5028 520.535,-59.2173\"/>\n",
       "</g>\n",
       "<!-- 12 -->\n",
       "<g id=\"node13\" class=\"node\"><title>12</title>\n",
       "<polygon fill=\"none\" stroke=\"black\" points=\"669.307,-50 578.23,-50 578.23,-0 669.307,-0 669.307,-50\"/>\n",
       "<text text-anchor=\"middle\" x=\"623.769\" y=\"-34.8\" font-family=\"Times,serif\" font-size=\"14.00\">gini = 0.0</text>\n",
       "<text text-anchor=\"middle\" x=\"623.769\" y=\"-20.8\" font-family=\"Times,serif\" font-size=\"14.00\">samples = 6</text>\n",
       "<text text-anchor=\"middle\" x=\"623.769\" y=\"-6.8\" font-family=\"Times,serif\" font-size=\"14.00\">value = [6, 0]</text>\n",
       "</g>\n",
       "<!-- 10&#45;&gt;12 -->\n",
       "<g id=\"edge12\" class=\"edge\"><title>10&#45;&gt;12</title>\n",
       "<path fill=\"none\" stroke=\"black\" d=\"M560.538,-85.9375C570.407,-76.5827 581.234,-66.3196 591.096,-56.9708\"/>\n",
       "<polygon fill=\"black\" stroke=\"black\" points=\"593.568,-59.4498 598.418,-50.0301 588.753,-54.3695 593.568,-59.4498\"/>\n",
       "</g>\n",
       "</g>\n",
       "</svg>\n"
      ],
      "text/plain": [
       "<graphviz.files.Source at 0x11098bbe0>"
      ]
     },
     "execution_count": 37,
     "metadata": {},
     "output_type": "execute_result"
    }
   ],
   "source": [
    "# from sklearn.tree import DecisionTreeClassifier, export_graphviz\n",
    "# import graphviz\n",
    "# X_train_imputed = Imputer().fit_transform(X_train)\n",
    "# tree = DecisionTreeClassifier(max_depth=3)\n",
    "# tree.fit(X_train_imputed, y_train)\n",
    "\n",
    "# tree_dot = export_graphviz(tree, out_file=None, feature_names=['f1_time', 'f2_director', 'f3_star'])\n",
    "# graphviz.Source(tree_dot)"
   ]
  },
  {
   "cell_type": "code",
   "execution_count": 38,
   "metadata": {
    "collapsed": false
   },
   "outputs": [
    {
     "data": {
      "text/plain": [
       "0.96825396825396826"
      ]
     },
     "execution_count": 38,
     "metadata": {},
     "output_type": "execute_result"
    }
   ],
   "source": [
    "# X_test_imputed = Imputer().fit_transform(X_test)\n",
    "# tree.score(X_test_imputed, y_test)"
   ]
  },
  {
   "cell_type": "code",
   "execution_count": null,
   "metadata": {
    "collapsed": true
   },
   "outputs": [],
   "source": [
    "# imputer needs to change "
   ]
  },
  {
   "cell_type": "markdown",
   "metadata": {},
   "source": [
    "### DecisionTreeClassifier"
   ]
  },
  {
   "cell_type": "code",
   "execution_count": null,
   "metadata": {
    "collapsed": true
   },
   "outputs": [],
   "source": [
    "from sklearn.tree import DecisionTreeClassifier"
   ]
  },
  {
   "cell_type": "code",
   "execution_count": 48,
   "metadata": {
    "collapsed": false
   },
   "outputs": [
    {
     "data": {
      "text/plain": [
       "GridSearchCV(cv=10, error_score='raise',\n",
       "       estimator=Pipeline(steps=[('imputer', Imputer(axis=0, copy=True, missing_values='NaN', strategy='mean', verbose=0)), ('decisiontreeclassifier', DecisionTreeClassifier(class_weight=None, criterion='gini', max_depth=None,\n",
       "            max_features=None, max_leaf_nodes=None,\n",
       "            min_impurity_split=1e-07, min_samples_leaf=1,\n",
       "            min_samples_split=2, min_weight_fraction_leaf=0.0,\n",
       "            presort=False, random_state=None, splitter='best'))]),\n",
       "       fit_params={}, iid=True, n_jobs=1,\n",
       "       param_grid={'decisiontreeclassifier__max_depth': range(1, 4)},\n",
       "       pre_dispatch='2*n_jobs', refit=True, return_train_score=True,\n",
       "       scoring=None, verbose=0)"
      ]
     },
     "execution_count": 48,
     "metadata": {},
     "output_type": "execute_result"
    }
   ],
   "source": [
    "pipe_dt = make_pipeline(Imputer(), DecisionTreeClassifier())\n",
    "param_grid_dt = {'decisiontreeclassifier__max_depth': range(1, 4)}\n",
    "grid_dt = GridSearchCV(pipe_dt, param_grid_dt, cv=10)\n",
    "grid_dt.fit(X_train, y_train) "
   ]
  },
  {
   "cell_type": "code",
   "execution_count": 49,
   "metadata": {
    "collapsed": false
   },
   "outputs": [
    {
     "data": {
      "text/plain": [
       "{'decisiontreeclassifier__max_depth': 3}"
      ]
     },
     "execution_count": 49,
     "metadata": {},
     "output_type": "execute_result"
    }
   ],
   "source": [
    "grid_dt.best_params_"
   ]
  },
  {
   "cell_type": "code",
   "execution_count": 50,
   "metadata": {
    "collapsed": false
   },
   "outputs": [
    {
     "data": {
      "text/plain": [
       "0.96825396825396826"
      ]
     },
     "execution_count": 50,
     "metadata": {},
     "output_type": "execute_result"
    }
   ],
   "source": [
    "grid_dt.score(X_test, y_test)"
   ]
  },
  {
   "cell_type": "markdown",
   "metadata": {},
   "source": [
    "### LogisticRegression"
   ]
  },
  {
   "cell_type": "code",
   "execution_count": 52,
   "metadata": {
    "collapsed": true
   },
   "outputs": [],
   "source": [
    "from sklearn.linear_model import LogisticRegression"
   ]
  },
  {
   "cell_type": "code",
   "execution_count": 54,
   "metadata": {
    "collapsed": false
   },
   "outputs": [
    {
     "data": {
      "text/plain": [
       "GridSearchCV(cv=10, error_score='raise',\n",
       "       estimator=Pipeline(steps=[('imputer', Imputer(axis=0, copy=True, missing_values='NaN', strategy='mean', verbose=0)), ('logisticregression', LogisticRegression(C=1.0, class_weight=None, dual=False, fit_intercept=True,\n",
       "          intercept_scaling=1, max_iter=100, multi_class='ovr', n_jobs=1,\n",
       "          penalty='l2', random_state=None, solver='liblinear', tol=0.0001,\n",
       "          verbose=0, warm_start=False))]),\n",
       "       fit_params={}, iid=True, n_jobs=1,\n",
       "       param_grid={'logisticregression__C': array([    0.001  ,     0.00464,     0.02154,     0.1    ,     0.46416,\n",
       "           2.15443,    10.     ,    46.41589,   215.44347,  1000.     ])},\n",
       "       pre_dispatch='2*n_jobs', refit=True, return_train_score=True,\n",
       "       scoring=None, verbose=0)"
      ]
     },
     "execution_count": 54,
     "metadata": {},
     "output_type": "execute_result"
    }
   ],
   "source": [
    "pipe_lr = make_pipeline(Imputer(), LogisticRegression())\n",
    "param_grid_lr = {'logisticregression__C': np.logspace(-3, 3, 10)}\n",
    "grid_lr = GridSearchCV(pipe_lr, param_grid_lr, cv=10)\n",
    "grid_lr.fit(X_train, y_train) "
   ]
  },
  {
   "cell_type": "code",
   "execution_count": 55,
   "metadata": {
    "collapsed": false
   },
   "outputs": [
    {
     "data": {
      "text/plain": [
       "{'logisticregression__C': 0.46415888336127775}"
      ]
     },
     "execution_count": 55,
     "metadata": {},
     "output_type": "execute_result"
    }
   ],
   "source": [
    "grid_lr.best_params_"
   ]
  },
  {
   "cell_type": "code",
   "execution_count": 56,
   "metadata": {
    "collapsed": false
   },
   "outputs": [
    {
     "data": {
      "text/plain": [
       "1.0"
      ]
     },
     "execution_count": 56,
     "metadata": {},
     "output_type": "execute_result"
    }
   ],
   "source": [
    "grid_lr.score(X_test, y_test)"
   ]
  },
  {
   "cell_type": "markdown",
   "metadata": {},
   "source": [
    "### Voting Classifier"
   ]
  },
  {
   "cell_type": "code",
   "execution_count": 64,
   "metadata": {
    "collapsed": false
   },
   "outputs": [
    {
     "data": {
      "text/plain": [
       "0.96825396825396826"
      ]
     },
     "execution_count": 64,
     "metadata": {},
     "output_type": "execute_result"
    }
   ],
   "source": [
    "from sklearn.ensemble import VotingClassifier\n",
    "\n",
    "voting = VotingClassifier([('logreg', LogisticRegression(C=0.464)),\n",
    "                           ('tree', DecisionTreeClassifier(max_depth=3))],\n",
    "                         voting='soft')\n",
    "pipe_voting = make_pipeline(Imputer(), voting)\n",
    "pipe_voting.fit(X_train, y_train)\n",
    "\n",
    "pipe_voting.score(X_test, y_test)"
   ]
  },
  {
   "cell_type": "code",
   "execution_count": null,
   "metadata": {
    "collapsed": true
   },
   "outputs": [],
   "source": []
  }
 ],
 "metadata": {
  "kernelspec": {
   "display_name": "Python [conda root]",
   "language": "python",
   "name": "conda-root-py"
  },
  "language_info": {
   "codemirror_mode": {
    "name": "ipython",
    "version": 3
   },
   "file_extension": ".py",
   "mimetype": "text/x-python",
   "name": "python",
   "nbconvert_exporter": "python",
   "pygments_lexer": "ipython3",
   "version": "3.5.2"
  }
 },
 "nbformat": 4,
 "nbformat_minor": 2
}
